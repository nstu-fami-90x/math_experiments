{
  "nbformat": 4,
  "nbformat_minor": 0,
  "metadata": {
    "colab": {
      "name": "math.ipynb",
      "private_outputs": true,
      "provenance": [],
      "collapsed_sections": [
        "KOfEY54_sotk",
        "q8nS3yVBPABC"
      ]
    },
    "kernelspec": {
      "name": "python3",
      "display_name": "Python 3"
    },
    "language_info": {
      "name": "python"
    }
  },
  "cells": [
    {
      "cell_type": "markdown",
      "source": [
        "# Math stuff, that is usefull for my education"
      ],
      "metadata": {
        "id": "d_ss9EVSse11"
      }
    },
    {
      "cell_type": "markdown",
      "source": [
        "## Fourier series graph calculator\n"
      ],
      "metadata": {
        "id": "KOfEY54_sotk"
      }
    },
    {
      "cell_type": "markdown",
      "source": [
        "### How it works\n",
        "\n",
        "Sine-cosine form of fourier series of $f(x)$ at $[a, b]$:\n",
        "\n",
        "$f_N(x) = \\frac{a_0}{2} + \\sum_{i=1}^{N}\\big(a_i \\cos \\big (\\frac{2\\pi}{b-a} ix\\big) + b_i \\sin \\big (\\frac{2\\pi}{b-a} ix\\big)\\big)$, where\n",
        "\n",
        "- $a_i = \\frac{2}{b-a} \\int_{a}^{b}f(x) \\cos \\big( \\frac{2\\pi}{b-a} i x\\big)dx$\n",
        "- $b_i = \\frac{2}{b-a} \\int_{a}^{b}f(x) \\sin \\big( \\frac{2\\pi}{b-a} i x\\big)dx$\n",
        "\n",
        "#### Note\n",
        "\n",
        "- $a_0 = \\frac{2}{b-a} \\int_{a}^{b}f(x)dx$\n",
        "- $b_0 = 0$"
      ],
      "metadata": {
        "id": "8D-MCx1VbVcx"
      }
    },
    {
      "cell_type": "code",
      "source": [
        "# Define function\n",
        "def fn(x):\n",
        "    return x**3 + 2*x**2"
      ],
      "metadata": {
        "id": "A_HYOKhZT4nK"
      },
      "execution_count": null,
      "outputs": []
    },
    {
      "cell_type": "code",
      "execution_count": null,
      "metadata": {
        "id": "hs-CysaZsdir",
        "cellView": "form"
      },
      "outputs": [],
      "source": [
        "#@title <b><font color=\"red\" size=\"\">←</font> Run</font></b>\n",
        "\n",
        "\n",
        "import numpy as np\n",
        "import matplotlib.pyplot as plt\n",
        "from scipy.signal import square\n",
        "from scipy.integrate import quad\n",
        "import scipy.special as special\n",
        "import math #* //import all function from math\n",
        "from math import cos, sin\n",
        "from matplotlib import figure\n",
        "from ipywidgets import interact\n",
        "\n",
        "\n",
        "@interact\n",
        "def fourier_factor(start_point=-np.pi, end_point=np.pi, n=(2, 71)):\n",
        "    line_lenght = end_point - start_point\n",
        "    x = np.arange(start_point, end_point, 0.001) #x axis has been chosen from –π to +π, \n",
        "\n",
        "    y = fn(x)\n",
        "    \n",
        "    # Define integrands\n",
        "    fc = lambda x:fn(x)*cos((2*np.pi / line_lenght)*i*x)  # i :dummy index\n",
        "    fs = lambda x:fn(x)*sin((2*np.pi / line_lenght)*i*x)\n",
        "    An=[]\n",
        "    Bn=[]\n",
        "\n",
        "    sum=0\n",
        "\n",
        "    for i in range(n):\n",
        "        an = quad(fc,start_point,end_point)[0]*(2./line_lenght)\n",
        "        An.append(an)\n",
        "        bn = quad(fs,start_point,end_point)[0]*(2./line_lenght)\n",
        "        Bn.append(bn) #//putting value in array Bn\n",
        "\n",
        "    sum += An[0]/2\n",
        "\n",
        "    for i in range(1, n):\n",
        "        sum += An[i]*np.cos((2*np.pi / line_lenght)*i*x) + Bn[i]*np.sin((2*np.pi / line_lenght)*i*x)\n",
        "\n",
        "    plt.plot(x,sum,'g')\n",
        "    plt.plot(x,y,'r--')\n",
        "    plt.title(f\"fourier series for f ({n} iterations)\")\n",
        "    plt.show()"
      ]
    },
    {
      "cell_type": "markdown",
      "source": [
        "## Fourier transform (DCT-2) graph calculator"
      ],
      "metadata": {
        "id": "q8nS3yVBPABC"
      }
    },
    {
      "cell_type": "markdown",
      "source": [
        "### How it works\n",
        "\n",
        "DCT - Discrete cosine transforms. Here we are using the second DCT type. In case of the normalized DCT:\n",
        "\n",
        "$\n",
        "f = \\begin{cases}\n",
        "\\sqrt{\\frac{1}{4N}} & \\text{ if } k=0 \\\\\n",
        "\\sqrt{\\frac{1}{2N}} & \\text{ if } k \\neq 0 \n",
        "\\end{cases}\n",
        "$\n",
        "\n",
        "In this case, the DCT “base functions” $\\phi_k[n] = \n",
        "2f \\cos \\big( \\frac{\\pi (2n+1)k}{2N} \\big)$\n",
        "become orthonormal:\n",
        "\n",
        "$\\sum_{n=0}^{N-1}\\phi_k[n]\\phi_l[n]=\\delta_{lk}$\n"
      ],
      "metadata": {
        "id": "jZngDgndjDkY"
      }
    },
    {
      "cell_type": "code",
      "source": [
        "# Define function\n",
        "def fun(x):\n",
        "    return np.exp(-x) * special.gamma(x)"
      ],
      "metadata": {
        "id": "EGlb1YSZQLNh"
      },
      "execution_count": null,
      "outputs": []
    },
    {
      "cell_type": "code",
      "source": [
        "#@title <b><font color=\"red\" size=\"\">←</font> Run</font></b>\n",
        "\n",
        "from scipy.fft import dct, idct\n",
        "import matplotlib.pyplot as plt\n",
        "\n",
        "\n",
        "@interact\n",
        "def fft(start_point=-np.pi, end_point=np.pi, N=(2, 150)):\n",
        "    t = np.linspace(start_point, end_point, N, endpoint=False)\n",
        "    x = fun(t)\n",
        "    y = dct(x, norm='ortho')\n",
        "    window = np.zeros(N)\n",
        "    window[:20] = 1\n",
        "    yr = idct(y*window, norm='ortho')\n",
        "    sum(abs(x-yr)**2) / sum(abs(x)**2)\n",
        "    plt.plot(t, x, '-bx')\n",
        "    plt.plot(t, yr, 'ro')\n",
        "    window = np.zeros(N)\n",
        "    window[:15] = 1\n",
        "    yr = idct(y*window, norm='ortho')\n",
        "    sum(abs(x-yr)**2) / sum(abs(x)**2)\n",
        "    plt.plot(t, yr, 'g+')\n",
        "    plt.legend(['x', '$x_{20}$', '$x_{15}$'])\n",
        "    plt.grid()\n",
        "    plt.show()"
      ],
      "metadata": {
        "id": "a2Las7dessRL",
        "cellView": "form"
      },
      "execution_count": null,
      "outputs": []
    },
    {
      "cell_type": "code",
      "source": [
        ""
      ],
      "metadata": {
        "id": "3JKVpHj3Petq"
      },
      "execution_count": null,
      "outputs": []
    }
  ]
}